{
 "cells": [
  {
   "cell_type": "code",
   "execution_count": 1,
   "metadata": {
    "collapsed": true
   },
   "outputs": [],
   "source": [
    "with open(\"source.txt\", \"r\") as f:\n",
    "    content = f.readlines()\n",
    "\n",
    "content = [int(x.strip()) for x in content]"
   ]
  },
  {
   "cell_type": "code",
   "execution_count": 2,
   "metadata": {
    "collapsed": true
   },
   "outputs": [],
   "source": [
    "# Day 1; Q1\n",
    "def findEndFreq(freqChangeList, startingPoint):\n",
    "    current = startingPoint\n",
    "    for i in freqChangeList:\n",
    "        prev = current\n",
    "        freq = prev + i\n",
    "        current = freq\n",
    "    return current"
   ]
  },
  {
   "cell_type": "code",
   "execution_count": 3,
   "metadata": {},
   "outputs": [
    {
     "name": "stdout",
     "output_type": "stream",
     "text": [
      "439\n"
     ]
    }
   ],
   "source": [
    "print(findEndFreq(content, 0))"
   ]
  },
  {
   "cell_type": "code",
   "execution_count": 4,
   "metadata": {
    "collapsed": true
   },
   "outputs": [],
   "source": [
    "# Day 1; Q2\n",
    "def findDoubles(freqChangeList, startingPoint):\n",
    "    freqList = [startingPoint]\n",
    "    doubleFreqFound = None\n",
    "    \n",
    "    while doubleFreqFound == None:\n",
    "        for val in freqChangeList:\n",
    "            newFreq = freqList[-1] + val\n",
    "            if newFreq not in freqList:\n",
    "                freqList.append(newFreq)\n",
    "            else:\n",
    "                doubleFreqFound = newFreq\n",
    "                break;\n",
    "            \n",
    "    return doubleFreqFound"
   ]
  },
  {
   "cell_type": "code",
   "execution_count": 5,
   "metadata": {
    "collapsed": true,
    "scrolled": false
   },
   "outputs": [],
   "source": [
    "# print(findDoubles(content, 0))"
   ]
  },
  {
   "cell_type": "code",
   "execution_count": 224,
   "metadata": {
    "collapsed": true
   },
   "outputs": [],
   "source": [
    "# Day 2; Q1\n",
    "\n",
    "with open(\"input_boxes.txt\", \"r\") as f:\n",
    "    content = f.readlines()\n",
    "\n",
    "box_content = [x.strip() for x in content]\n",
    "\n",
    "checklist = [\"abcdef\", \"bababc\", \"abbcde\", \"abcccd\", \"aabcdd\", \"abcdee\", \"ababab\"]"
   ]
  },
  {
   "cell_type": "code",
   "execution_count": 18,
   "metadata": {
    "collapsed": true
   },
   "outputs": [],
   "source": []
  },
  {
   "cell_type": "code",
   "execution_count": 141,
   "metadata": {
    "collapsed": true
   },
   "outputs": [],
   "source": [
    "def createChecksum(box_ids):\n",
    "    \n",
    "    countTwos = 0\n",
    "    countThrees = 0\n",
    "    \n",
    "    for id in box_ids:\n",
    "        count = countDuplicates(id)\n",
    "        if count[0] != 0 :\n",
    "            countTwos += 1\n",
    "        if count[1] != 0:\n",
    "            countThrees += 1\n",
    "    return countTwos*countThrees\n",
    "\n",
    "\n",
    "def countDuplicates(id):\n",
    "    letters = list(id)\n",
    "    counter2 = 0\n",
    "    counter3 = 0\n",
    "    letters.sort()\n",
    "\n",
    "    l = [list(group) for key, group in groupby(letters)]\n",
    "    for i in l:\n",
    "        if len(i) == 2:\n",
    "            counter2 += 1\n",
    "        if len(i) == 3:\n",
    "            counter3 += 1\n",
    "    return counter2, counter3\n",
    "\n"
   ]
  },
  {
   "cell_type": "code",
   "execution_count": 142,
   "metadata": {},
   "outputs": [
    {
     "data": {
      "text/plain": [
       "6000"
      ]
     },
     "execution_count": 142,
     "metadata": {},
     "output_type": "execute_result"
    }
   ],
   "source": [
    "createChecksum(box_content)"
   ]
  },
  {
   "cell_type": "code",
   "execution_count": 252,
   "metadata": {
    "collapsed": true
   },
   "outputs": [],
   "source": [
    "# Day 2; Q2\n",
    "\n",
    "# Find two ids that differ only 1 letter\n",
    "\n",
    "def findOneDiffer(idlist):\n",
    "    close = {}\n",
    "    for idd in idlist:\n",
    "        toCompareWith = idd\n",
    "        for other in idlist:\n",
    "            if compareTwo(toCompareWith, other):\n",
    "                for index, val in enumerate(list(other)):\n",
    "                    if close.get(index) == None:\n",
    "                        close[index] = set(val)\n",
    "                    else:\n",
    "                        close[index].add(val)\n",
    "          \n",
    "    l = list(filter(lambda x: len(x) == 1, close.values()))  \n",
    "    answer = \"\".join(list(map(lambda i: i.pop(), l)))\n",
    "    print(answer)\n",
    "    \n",
    "def compareTwo(compare1, compare2):\n",
    "    letters1 = list(compare1)\n",
    "    letters2 = list(compare2)\n",
    "    \n",
    "    comparable = {}\n",
    "    \n",
    "    for index, val in enumerate(letters1):\n",
    "        comparable[index] = set(val)\n",
    "    for index, val in enumerate(letters2):\n",
    "        comparable[index].add(val)\n",
    "        \n",
    "    if len(list(filter(lambda x: len(x) == 1, comparable.values()))) == len(compare1)-1:\n",
    "        return True\n",
    "    else:\n",
    "        return False\n"
   ]
  },
  {
   "cell_type": "code",
   "execution_count": 253,
   "metadata": {},
   "outputs": [
    {
     "name": "stdout",
     "output_type": "stream",
     "text": [
      "pbykrmjmizwhxlqnasfgtycdv\n"
     ]
    }
   ],
   "source": [
    "findOneDiffer(box_content)"
   ]
  },
  {
   "cell_type": "code",
   "execution_count": null,
   "metadata": {
    "collapsed": true
   },
   "outputs": [],
   "source": [
    "pbykrmjmizwhxlqnasfgtycdv"
   ]
  },
  {
   "cell_type": "code",
   "execution_count": 78,
   "metadata": {
    "collapsed": true
   },
   "outputs": [],
   "source": [
    "# Day 3; Q1\n",
    "\n",
    "with open(\"box_ids.txt\", \"r\") as f:\n",
    "    content = f.readlines()\n",
    "\n",
    "ids = [x.strip() for x in content]\n",
    "\n",
    "testcontent = [\"#1 @ 1,3: 4x4\", \"#2 @ 3,1: 4x4\", \"#3 @ 5,5: 2x2\"]"
   ]
  },
  {
   "cell_type": "code",
   "execution_count": 176,
   "metadata": {
    "collapsed": true
   },
   "outputs": [],
   "source": [
    "def parseID(id):\n",
    "    box_number = str(int(id[int(id.index(\"#\"))+1: int(id.index(\"@\"))]))\n",
    "    left = int(id[int(id.index(\"@\"))+1: int(id.index(\",\"))])\n",
    "    top = int(id[int(id.index(\",\"))+1: int(id.index(\":\"))])\n",
    "    width = int(id[int(id.index(\":\"))+1: int(id.index(\"x\"))])\n",
    "    height = int(id[int(id.index(\"x\"))+1:])\n",
    "    return dict({\"id\": box_number, \"left\": left, \"top\": top, \"width\":width, \"height\":height})"
   ]
  },
  {
   "cell_type": "code",
   "execution_count": 253,
   "metadata": {
    "collapsed": true
   },
   "outputs": [],
   "source": [
    "def square(obj):\n",
    "    result = {}\n",
    "    for i in range(obj[\"width\"]):\n",
    "        for j in range(obj[\"height\"]):\n",
    "            coor = str(obj[\"left\"] + i) +\",\"+ str(obj[\"top\"]+ j)\n",
    "            result[coor] = obj[\"id\"]\n",
    "    return result\n",
    "#     print(coordinates)"
   ]
  },
  {
   "cell_type": "code",
   "execution_count": 157,
   "metadata": {
    "collapsed": true
   },
   "outputs": [],
   "source": [
    "from collections import defaultdict"
   ]
  },
  {
   "cell_type": "code",
   "execution_count": 263,
   "metadata": {
    "collapsed": true
   },
   "outputs": [],
   "source": [
    "def countDoubles(idlist):\n",
    "    \n",
    "    res = dict()\n",
    "    for i in idlist:\n",
    "        obj = parseID(i)\n",
    "        sq = square(obj)\n",
    "        for key in sq.keys():\n",
    "            if key in res:\n",
    "                res[key].append(sq[key])\n",
    "            else:\n",
    "                res[key] = [sq[key]]\n",
    "    count = set()\n",
    "\n",
    "    for val, idd in res.items():\n",
    "        if len(idd) > 1:\n",
    "            count.add(val)\n",
    "\n",
    "    return len(count)"
   ]
  },
  {
   "cell_type": "code",
   "execution_count": 264,
   "metadata": {},
   "outputs": [
    {
     "name": "stdout",
     "output_type": "stream",
     "text": [
      "111266\n"
     ]
    }
   ],
   "source": [
    "print(countDoubles(ids))"
   ]
  },
  {
   "cell_type": "code",
   "execution_count": 282,
   "metadata": {
    "collapsed": true
   },
   "outputs": [],
   "source": [
    "# Day3; Q2\n",
    "\n",
    "def findSingleClaim(idlist):\n",
    "    res = dict()\n",
    "    for i in idlist:\n",
    "        obj = parseID(i)\n",
    "        sq = square(obj)\n",
    "        for key in sq.keys():\n",
    "            if key in res:\n",
    "                res[key].append(sq[key])\n",
    "            else:\n",
    "                res[key] = [sq[key]]\n",
    "    count = set()\n",
    "    for val, idd in res.items():\n",
    "        if len(idd) > 1:\n",
    "#             print(idd)\n",
    "            for i in idd:\n",
    "                count.add(i)\n",
    "    \n",
    "    for i in range(len(idlist)):\n",
    "        if str(int(i)+1) not in count:\n",
    "            return i+1\n",
    "    "
   ]
  },
  {
   "cell_type": "code",
   "execution_count": 283,
   "metadata": {},
   "outputs": [
    {
     "name": "stdout",
     "output_type": "stream",
     "text": [
      "266\n"
     ]
    }
   ],
   "source": [
    "print(findSingleClaim(ids))"
   ]
  },
  {
   "cell_type": "code",
   "execution_count": 353,
   "metadata": {
    "collapsed": true
   },
   "outputs": [],
   "source": [
    "from datetime import datetime\n",
    "import collections\n",
    "import pandas as pd"
   ]
  },
  {
   "cell_type": "code",
   "execution_count": 441,
   "metadata": {
    "collapsed": true
   },
   "outputs": [],
   "source": [
    "# Day 4; Q1, Day4: Q2\n",
    "\n",
    "with open(\"guard_schedule.txt\", \"r\") as f:\n",
    "    schedule = f.readlines()\n",
    "schedule = [x.strip() for x in schedule]"
   ]
  },
  {
   "cell_type": "code",
   "execution_count": 442,
   "metadata": {
    "collapsed": true
   },
   "outputs": [],
   "source": [
    "def parseRecord(line):\n",
    "    date = datetime.strptime(line[line.index(\"[\")+1: line.index(\"]\")], '%Y-%m-%d %H:%M')\n",
    "    id = \"\"\n",
    "    action = \"\"\n",
    "    if line.find(\"Guard\") != -1:\n",
    "        id = int(line[line.index(\"#\")+1:line.index(\"begins\")])\n",
    "        action = line[line.index(str(id))+len(str(id)):]\n",
    "    else:\n",
    "        action = line[line.index(\"]\")+1:]\n",
    "    result = {\"timestamp\": date, \"guard\":id, \"action\":action}\n",
    "    return result"
   ]
  },
  {
   "cell_type": "code",
   "execution_count": 443,
   "metadata": {
    "collapsed": true
   },
   "outputs": [],
   "source": [
    "def eventParser(schedule):\n",
    "    events = {\"timestamp\":[], \"guard\":[], \"action\": [], \"minutes\": []}\n",
    "    for i in schedule:\n",
    "        record = parseRecord(i)\n",
    "        events[\"timestamp\"].append(record[\"timestamp\"])\n",
    "        events[\"guard\"].append(record[\"guard\"])\n",
    "        events[\"action\"].append(record[\"action\"].strip())\n",
    "        events[\"minutes\"].append([])\n",
    "    return events"
   ]
  },
  {
   "cell_type": "code",
   "execution_count": 444,
   "metadata": {
    "collapsed": true
   },
   "outputs": [],
   "source": [
    "events = eventParser(schedule)\n",
    "df = pd.DataFrame(data=events)\n",
    "ndf = df.sort_values(by=[\"timestamp\"]).reset_index(drop=True)"
   ]
  },
  {
   "cell_type": "code",
   "execution_count": 445,
   "metadata": {
    "collapsed": true
   },
   "outputs": [],
   "source": [
    "def checkZ(x, loc):\n",
    "    if x == \"\":\n",
    "        return (ndf.iloc[loc-1][\"guard\"])\n",
    "    else:\n",
    "        return x"
   ]
  },
  {
   "cell_type": "code",
   "execution_count": 446,
   "metadata": {
    "collapsed": true
   },
   "outputs": [],
   "source": [
    "for name, row in ndf.iterrows():\n",
    "    ndf.iloc[name][\"guard\"] = checkZ(row[\"guard\"], name)"
   ]
  },
  {
   "cell_type": "code",
   "execution_count": 447,
   "metadata": {
    "collapsed": true
   },
   "outputs": [],
   "source": [
    "def durToMinutes(end, start):\n",
    "    minutes = []\n",
    "    duration = end - start\n",
    "    dur = duration.total_seconds()/60\n",
    "    startminute = start.minute\n",
    "    for i in range(int(dur)):\n",
    "        if startminute+i > 59:\n",
    "            minutes.append(startminute+i - 60 )\n",
    "        else:\n",
    "            minutes.append(startminute+i)\n",
    "    return minutes"
   ]
  },
  {
   "cell_type": "code",
   "execution_count": 448,
   "metadata": {
    "collapsed": true
   },
   "outputs": [],
   "source": [
    "for name, row in ndf.iterrows():\n",
    "    if row[\"action\"] == \"falls asleep\":\n",
    "        t_start = row[\"timestamp\"]\n",
    "        t_end = ndf.iloc[name + 1][\"timestamp\"]\n",
    "        duration = durToMinutes(t_end,t_start)\n",
    "        ndf.iloc[name + 1][\"minutes\"] = duration"
   ]
  },
  {
   "cell_type": "code",
   "execution_count": 467,
   "metadata": {
    "collapsed": true
   },
   "outputs": [],
   "source": [
    "def mostOccuring(arr):\n",
    "    results = dict()\n",
    "    aa = 0\n",
    "    for i in range(60):\n",
    "        n = arr.count(i)\n",
    "        aa += n\n",
    "        results[n] = i\n",
    "    maxx = max(results.keys())\n",
    "    return [results[maxx], maxx]"
   ]
  },
  {
   "cell_type": "code",
   "execution_count": 468,
   "metadata": {
    "collapsed": true
   },
   "outputs": [],
   "source": [
    "def answers(df):\n",
    "    results = dict()\n",
    "\n",
    "    for name, row in df.iterrows():\n",
    "        if len(row[\"minutes\"]) != 0:\n",
    "            if row[\"guard\"] in results:\n",
    "                for n in row[\"minutes\"]:\n",
    "                    results[row[\"guard\"]].append(n)\n",
    "            else:\n",
    "                results[row[\"guard\"]] = row[\"minutes\"]\n",
    "\n",
    "    rdf_input = {\"guard_ID\":[], \"top_minute\": [], \"top_minute_occ\": [], \"total_minutes\": [], \"answer\": []}            \n",
    "    \n",
    "    for key, val in results.items():\n",
    "        n = len(val)\n",
    "        most = mostOccuring(val)\n",
    "        rdf_input[\"guard_ID\"].append(key)\n",
    "        rdf_input[\"top_minute\"].append(most[0])\n",
    "        rdf_input[\"top_minute_occ\"].append(most[1])\n",
    "        rdf_input[\"total_minutes\"].append(n)\n",
    "        rdf_input[\"answer\"].append(key*most[0])\n",
    "    rdf = pd.DataFrame(data=rdf_input)\n",
    "    return rdf"
   ]
  },
  {
   "cell_type": "code",
   "execution_count": 469,
   "metadata": {},
   "outputs": [
    {
     "data": {
      "text/html": [
       "<div>\n",
       "<style>\n",
       "    .dataframe thead tr:only-child th {\n",
       "        text-align: right;\n",
       "    }\n",
       "\n",
       "    .dataframe thead th {\n",
       "        text-align: left;\n",
       "    }\n",
       "\n",
       "    .dataframe tbody tr th {\n",
       "        vertical-align: top;\n",
       "    }\n",
       "</style>\n",
       "<table border=\"1\" class=\"dataframe\">\n",
       "  <thead>\n",
       "    <tr style=\"text-align: right;\">\n",
       "      <th></th>\n",
       "      <th>answer</th>\n",
       "      <th>guard_ID</th>\n",
       "      <th>top_minute</th>\n",
       "      <th>top_minute_occ</th>\n",
       "      <th>total_minutes</th>\n",
       "    </tr>\n",
       "  </thead>\n",
       "  <tbody>\n",
       "    <tr>\n",
       "      <th>0</th>\n",
       "      <td>77449</td>\n",
       "      <td>1889</td>\n",
       "      <td>41</td>\n",
       "      <td>56</td>\n",
       "      <td>1940</td>\n",
       "    </tr>\n",
       "    <tr>\n",
       "      <th>1</th>\n",
       "      <td>40428</td>\n",
       "      <td>1123</td>\n",
       "      <td>36</td>\n",
       "      <td>49</td>\n",
       "      <td>1856</td>\n",
       "    </tr>\n",
       "    <tr>\n",
       "      <th>2</th>\n",
       "      <td>71907</td>\n",
       "      <td>2179</td>\n",
       "      <td>33</td>\n",
       "      <td>73</td>\n",
       "      <td>1653</td>\n",
       "    </tr>\n",
       "    <tr>\n",
       "      <th>3</th>\n",
       "      <td>72925</td>\n",
       "      <td>2917</td>\n",
       "      <td>25</td>\n",
       "      <td>112</td>\n",
       "      <td>3813</td>\n",
       "    </tr>\n",
       "    <tr>\n",
       "      <th>4</th>\n",
       "      <td>118986</td>\n",
       "      <td>2833</td>\n",
       "      <td>42</td>\n",
       "      <td>72</td>\n",
       "      <td>1867</td>\n",
       "    </tr>\n",
       "    <tr>\n",
       "      <th>5</th>\n",
       "      <td>85699</td>\n",
       "      <td>1993</td>\n",
       "      <td>43</td>\n",
       "      <td>97</td>\n",
       "      <td>3452</td>\n",
       "    </tr>\n",
       "    <tr>\n",
       "      <th>6</th>\n",
       "      <td>12309</td>\n",
       "      <td>373</td>\n",
       "      <td>33</td>\n",
       "      <td>49</td>\n",
       "      <td>1384</td>\n",
       "    </tr>\n",
       "    <tr>\n",
       "      <th>7</th>\n",
       "      <td>19480</td>\n",
       "      <td>487</td>\n",
       "      <td>40</td>\n",
       "      <td>73</td>\n",
       "      <td>1864</td>\n",
       "    </tr>\n",
       "    <tr>\n",
       "      <th>8</th>\n",
       "      <td>118840</td>\n",
       "      <td>2971</td>\n",
       "      <td>40</td>\n",
       "      <td>64</td>\n",
       "      <td>2024</td>\n",
       "    </tr>\n",
       "    <tr>\n",
       "      <th>9</th>\n",
       "      <td>47050</td>\n",
       "      <td>941</td>\n",
       "      <td>50</td>\n",
       "      <td>41</td>\n",
       "      <td>960</td>\n",
       "    </tr>\n",
       "    <tr>\n",
       "      <th>10</th>\n",
       "      <td>112372</td>\n",
       "      <td>2161</td>\n",
       "      <td>52</td>\n",
       "      <td>65</td>\n",
       "      <td>2155</td>\n",
       "    </tr>\n",
       "    <tr>\n",
       "      <th>11</th>\n",
       "      <td>49137</td>\n",
       "      <td>1489</td>\n",
       "      <td>33</td>\n",
       "      <td>137</td>\n",
       "      <td>3901</td>\n",
       "    </tr>\n",
       "    <tr>\n",
       "      <th>12</th>\n",
       "      <td>13180</td>\n",
       "      <td>659</td>\n",
       "      <td>20</td>\n",
       "      <td>112</td>\n",
       "      <td>3856</td>\n",
       "    </tr>\n",
       "    <tr>\n",
       "      <th>13</th>\n",
       "      <td>91279</td>\n",
       "      <td>2467</td>\n",
       "      <td>37</td>\n",
       "      <td>64</td>\n",
       "      <td>2027</td>\n",
       "    </tr>\n",
       "    <tr>\n",
       "      <th>14</th>\n",
       "      <td>70789</td>\n",
       "      <td>2441</td>\n",
       "      <td>29</td>\n",
       "      <td>73</td>\n",
       "      <td>2069</td>\n",
       "    </tr>\n",
       "    <tr>\n",
       "      <th>15</th>\n",
       "      <td>79684</td>\n",
       "      <td>1811</td>\n",
       "      <td>44</td>\n",
       "      <td>65</td>\n",
       "      <td>1932</td>\n",
       "    </tr>\n",
       "    <tr>\n",
       "      <th>16</th>\n",
       "      <td>28204</td>\n",
       "      <td>641</td>\n",
       "      <td>44</td>\n",
       "      <td>49</td>\n",
       "      <td>1422</td>\n",
       "    </tr>\n",
       "    <tr>\n",
       "      <th>17</th>\n",
       "      <td>172727</td>\n",
       "      <td>3259</td>\n",
       "      <td>53</td>\n",
       "      <td>56</td>\n",
       "      <td>1938</td>\n",
       "    </tr>\n",
       "    <tr>\n",
       "      <th>18</th>\n",
       "      <td>11517</td>\n",
       "      <td>349</td>\n",
       "      <td>33</td>\n",
       "      <td>81</td>\n",
       "      <td>2641</td>\n",
       "    </tr>\n",
       "    <tr>\n",
       "      <th>19</th>\n",
       "      <td>69137</td>\n",
       "      <td>1471</td>\n",
       "      <td>47</td>\n",
       "      <td>73</td>\n",
       "      <td>2611</td>\n",
       "    </tr>\n",
       "  </tbody>\n",
       "</table>\n",
       "</div>"
      ],
      "text/plain": [
       "    answer  guard_ID  top_minute  top_minute_occ  total_minutes\n",
       "0    77449      1889          41              56           1940\n",
       "1    40428      1123          36              49           1856\n",
       "2    71907      2179          33              73           1653\n",
       "3    72925      2917          25             112           3813\n",
       "4   118986      2833          42              72           1867\n",
       "5    85699      1993          43              97           3452\n",
       "6    12309       373          33              49           1384\n",
       "7    19480       487          40              73           1864\n",
       "8   118840      2971          40              64           2024\n",
       "9    47050       941          50              41            960\n",
       "10  112372      2161          52              65           2155\n",
       "11   49137      1489          33             137           3901\n",
       "12   13180       659          20             112           3856\n",
       "13   91279      2467          37              64           2027\n",
       "14   70789      2441          29              73           2069\n",
       "15   79684      1811          44              65           1932\n",
       "16   28204       641          44              49           1422\n",
       "17  172727      3259          53              56           1938\n",
       "18   11517       349          33              81           2641\n",
       "19   69137      1471          47              73           2611"
      ]
     },
     "execution_count": 469,
     "metadata": {},
     "output_type": "execute_result"
    }
   ],
   "source": [
    "rdf = answers(ndf)\n",
    "rdf"
   ]
  },
  {
   "cell_type": "code",
   "execution_count": null,
   "metadata": {
    "collapsed": true
   },
   "outputs": [],
   "source": []
  },
  {
   "cell_type": "code",
   "execution_count": null,
   "metadata": {
    "collapsed": true
   },
   "outputs": [],
   "source": []
  }
 ],
 "metadata": {
  "kernelspec": {
   "display_name": "Python 2",
   "language": "python",
   "name": "python2"
  },
  "language_info": {
   "codemirror_mode": {
    "name": "ipython",
    "version": 2
   },
   "file_extension": ".py",
   "mimetype": "text/x-python",
   "name": "python",
   "nbconvert_exporter": "python",
   "pygments_lexer": "ipython2",
   "version": "2.7.14"
  }
 },
 "nbformat": 4,
 "nbformat_minor": 2
}
