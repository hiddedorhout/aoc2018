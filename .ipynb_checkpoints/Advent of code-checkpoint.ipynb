{
 "cells": [
  {
   "cell_type": "code",
   "execution_count": 1,
   "metadata": {},
   "outputs": [],
   "source": [
    "with open(\"source.txt\", \"r\") as f:\n",
    "    content = f.readlines()\n",
    "\n",
    "content = [int(x.strip()) for x in content]"
   ]
  },
  {
   "cell_type": "code",
   "execution_count": 2,
   "metadata": {},
   "outputs": [],
   "source": [
    "# Day 1; Q1\n",
    "def findEndFreq(freqChangeList, startingPoint):\n",
    "    current = startingPoint\n",
    "    for i in freqChangeList:\n",
    "        prev = current\n",
    "        freq = prev + i\n",
    "        current = freq\n",
    "    return current"
   ]
  },
  {
   "cell_type": "code",
   "execution_count": 3,
   "metadata": {},
   "outputs": [
    {
     "name": "stdout",
     "output_type": "stream",
     "text": [
      "439\n"
     ]
    }
   ],
   "source": [
    "print(findEndFreq(content, 0))"
   ]
  },
  {
   "cell_type": "code",
   "execution_count": 4,
   "metadata": {},
   "outputs": [],
   "source": [
    "# Day 1; Q2\n",
    "def findDoubles(freqChangeList, startingPoint):\n",
    "    freqList = [startingPoint]\n",
    "    doubleFreqFound = None\n",
    "    \n",
    "    while doubleFreqFound == None:\n",
    "        for val in freqChangeList:\n",
    "            newFreq = freqList[-1] + val\n",
    "            if newFreq not in freqList:\n",
    "                freqList.append(newFreq)\n",
    "            else:\n",
    "                doubleFreqFound = newFreq\n",
    "                break;\n",
    "            \n",
    "    return doubleFreqFound"
   ]
  },
  {
   "cell_type": "code",
   "execution_count": 5,
   "metadata": {
    "scrolled": false
   },
   "outputs": [],
   "source": [
    "# print(findDoubles(content, 0))"
   ]
  },
  {
   "cell_type": "code",
   "execution_count": 224,
   "metadata": {},
   "outputs": [],
   "source": [
    "# Day 2; Q1\n",
    "\n",
    "with open(\"input_boxes.txt\", \"r\") as f:\n",
    "    content = f.readlines()\n",
    "\n",
    "box_content = [x.strip() for x in content]\n",
    "\n",
    "checklist = [\"abcdef\", \"bababc\", \"abbcde\", \"abcccd\", \"aabcdd\", \"abcdee\", \"ababab\"]"
   ]
  },
  {
   "cell_type": "code",
   "execution_count": 18,
   "metadata": {},
   "outputs": [],
   "source": []
  },
  {
   "cell_type": "code",
   "execution_count": 141,
   "metadata": {},
   "outputs": [],
   "source": [
    "def createChecksum(box_ids):\n",
    "    \n",
    "    countTwos = 0\n",
    "    countThrees = 0\n",
    "    \n",
    "    for id in box_ids:\n",
    "        count = countDuplicates(id)\n",
    "        if count[0] != 0 :\n",
    "            countTwos += 1\n",
    "        if count[1] != 0:\n",
    "            countThrees += 1\n",
    "    return countTwos*countThrees\n",
    "\n",
    "\n",
    "def countDuplicates(id):\n",
    "    letters = list(id)\n",
    "    counter2 = 0\n",
    "    counter3 = 0\n",
    "    letters.sort()\n",
    "\n",
    "    l = [list(group) for key, group in groupby(letters)]\n",
    "    for i in l:\n",
    "        if len(i) == 2:\n",
    "            counter2 += 1\n",
    "        if len(i) == 3:\n",
    "            counter3 += 1\n",
    "    return counter2, counter3\n",
    "\n"
   ]
  },
  {
   "cell_type": "code",
   "execution_count": 142,
   "metadata": {},
   "outputs": [
    {
     "data": {
      "text/plain": [
       "6000"
      ]
     },
     "execution_count": 142,
     "metadata": {},
     "output_type": "execute_result"
    }
   ],
   "source": [
    "createChecksum(box_content)"
   ]
  },
  {
   "cell_type": "code",
   "execution_count": 252,
   "metadata": {},
   "outputs": [],
   "source": [
    "# Day 2; Q2\n",
    "\n",
    "# Find two ids that differ only 1 letter\n",
    "\n",
    "def findOneDiffer(idlist):\n",
    "    close = {}\n",
    "    for idd in idlist:\n",
    "        toCompareWith = idd\n",
    "        for other in idlist:\n",
    "            if compareTwo(toCompareWith, other):\n",
    "                for index, val in enumerate(list(other)):\n",
    "                    if close.get(index) == None:\n",
    "                        close[index] = set(val)\n",
    "                    else:\n",
    "                        close[index].add(val)\n",
    "          \n",
    "    l = list(filter(lambda x: len(x) == 1, close.values()))  \n",
    "    answer = \"\".join(list(map(lambda i: i.pop(), l)))\n",
    "    print(answer)\n",
    "    \n",
    "def compareTwo(compare1, compare2):\n",
    "    letters1 = list(compare1)\n",
    "    letters2 = list(compare2)\n",
    "    \n",
    "    comparable = {}\n",
    "    \n",
    "    for index, val in enumerate(letters1):\n",
    "        comparable[index] = set(val)\n",
    "    for index, val in enumerate(letters2):\n",
    "        comparable[index].add(val)\n",
    "        \n",
    "    if len(list(filter(lambda x: len(x) == 1, comparable.values()))) == len(compare1)-1:\n",
    "        return True\n",
    "    else:\n",
    "        return False\n"
   ]
  },
  {
   "cell_type": "code",
   "execution_count": 253,
   "metadata": {},
   "outputs": [
    {
     "name": "stdout",
     "output_type": "stream",
     "text": [
      "pbykrmjmizwhxlqnasfgtycdv\n"
     ]
    }
   ],
   "source": [
    "findOneDiffer(box_content)"
   ]
  },
  {
   "cell_type": "code",
   "execution_count": null,
   "metadata": {},
   "outputs": [],
   "source": [
    "pbykrmjmizwhxlqnasfgtycdv"
   ]
  },
  {
   "cell_type": "code",
   "execution_count": 78,
   "metadata": {},
   "outputs": [],
   "source": [
    "# Day 3; Q1\n",
    "\n",
    "with open(\"box_ids.txt\", \"r\") as f:\n",
    "    content = f.readlines()\n",
    "\n",
    "ids = [x.strip() for x in content]\n",
    "\n",
    "testcontent = [\"#1 @ 1,3: 4x4\", \"#2 @ 3,1: 4x4\", \"#3 @ 5,5: 2x2\"]"
   ]
  },
  {
   "cell_type": "code",
   "execution_count": 176,
   "metadata": {},
   "outputs": [],
   "source": [
    "def parseID(id):\n",
    "    box_number = str(int(id[int(id.index(\"#\"))+1: int(id.index(\"@\"))]))\n",
    "    left = int(id[int(id.index(\"@\"))+1: int(id.index(\",\"))])\n",
    "    top = int(id[int(id.index(\",\"))+1: int(id.index(\":\"))])\n",
    "    width = int(id[int(id.index(\":\"))+1: int(id.index(\"x\"))])\n",
    "    height = int(id[int(id.index(\"x\"))+1:])\n",
    "    return dict({\"id\": box_number, \"left\": left, \"top\": top, \"width\":width, \"height\":height})"
   ]
  },
  {
   "cell_type": "code",
   "execution_count": 253,
   "metadata": {},
   "outputs": [],
   "source": [
    "def square(obj):\n",
    "    result = {}\n",
    "    for i in range(obj[\"width\"]):\n",
    "        for j in range(obj[\"height\"]):\n",
    "            coor = str(obj[\"left\"] + i) +\",\"+ str(obj[\"top\"]+ j)\n",
    "            result[coor] = obj[\"id\"]\n",
    "    return result\n",
    "#     print(coordinates)"
   ]
  },
  {
   "cell_type": "code",
   "execution_count": null,
   "metadata": {},
   "outputs": [],
   "source": []
  },
  {
   "cell_type": "code",
   "execution_count": 157,
   "metadata": {},
   "outputs": [],
   "source": [
    "from collections import defaultdict"
   ]
  },
  {
   "cell_type": "code",
   "execution_count": 263,
   "metadata": {},
   "outputs": [],
   "source": [
    "def countDoubles(idlist):\n",
    "    \n",
    "    res = dict()\n",
    "    for i in idlist:\n",
    "        obj = parseID(i)\n",
    "        sq = square(obj)\n",
    "        for key in sq.keys():\n",
    "            if key in res:\n",
    "                res[key].append(sq[key])\n",
    "            else:\n",
    "                res[key] = [sq[key]]\n",
    "    count = set()\n",
    "\n",
    "    for val, idd in res.items():\n",
    "        if len(idd) > 1:\n",
    "            count.add(val)\n",
    "\n",
    "    return len(count)"
   ]
  },
  {
   "cell_type": "code",
   "execution_count": 264,
   "metadata": {},
   "outputs": [
    {
     "name": "stdout",
     "output_type": "stream",
     "text": [
      "111266\n"
     ]
    }
   ],
   "source": [
    "print(countDoubles(ids))"
   ]
  },
  {
   "cell_type": "code",
   "execution_count": 282,
   "metadata": {},
   "outputs": [],
   "source": [
    "# Day3l Q2\n",
    "\n",
    "def findSingleClaim(idlist):\n",
    "    res = dict()\n",
    "    for i in idlist:\n",
    "        obj = parseID(i)\n",
    "        sq = square(obj)\n",
    "        for key in sq.keys():\n",
    "            if key in res:\n",
    "                res[key].append(sq[key])\n",
    "            else:\n",
    "                res[key] = [sq[key]]\n",
    "    count = set()\n",
    "    for val, idd in res.items():\n",
    "        if len(idd) > 1:\n",
    "#             print(idd)\n",
    "            for i in idd:\n",
    "                count.add(i)\n",
    "    \n",
    "    for i in range(len(idlist)):\n",
    "        if str(int(i)+1) not in count:\n",
    "            return i+1\n",
    "    "
   ]
  },
  {
   "cell_type": "code",
   "execution_count": 283,
   "metadata": {},
   "outputs": [
    {
     "name": "stdout",
     "output_type": "stream",
     "text": [
      "266\n"
     ]
    }
   ],
   "source": [
    "print(findSingleClaim(ids))"
   ]
  }
 ],
 "metadata": {
  "kernelspec": {
   "display_name": "Python 3",
   "language": "python",
   "name": "python3"
  },
  "language_info": {
   "codemirror_mode": {
    "name": "ipython",
    "version": 3
   },
   "file_extension": ".py",
   "mimetype": "text/x-python",
   "name": "python",
   "nbconvert_exporter": "python",
   "pygments_lexer": "ipython3",
   "version": "3.7.0"
  }
 },
 "nbformat": 4,
 "nbformat_minor": 2
}
